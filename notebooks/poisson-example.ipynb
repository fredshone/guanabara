{
 "cells": [
  {
   "cell_type": "code",
   "execution_count": 26,
   "metadata": {
    "ExecuteTime": {
     "end_time": "2020-08-01T20:12:22.210147Z",
     "start_time": "2020-08-01T20:12:06.756486Z"
    }
   },
   "outputs": [],
   "source": [
    "import numpy as np\n",
    "from matplotlib import pyplot as plt\n",
    "import pymc3 as pm"
   ]
  },
  {
   "cell_type": "code",
   "execution_count": 108,
   "metadata": {
    "ExecuteTime": {
     "end_time": "2020-08-02T13:11:02.637249Z",
     "start_time": "2020-08-02T13:11:02.151566Z"
    }
   },
   "outputs": [],
   "source": [
    "data = np.concatenate((np.random.poisson(2, size=25), np.random.poisson(4.2, size=25)))"
   ]
  },
  {
   "cell_type": "code",
   "execution_count": 109,
   "metadata": {
    "ExecuteTime": {
     "end_time": "2020-08-02T13:11:03.141665Z",
     "start_time": "2020-08-02T13:11:02.776289Z"
    }
   },
   "outputs": [
    {
     "data": {
      "text/plain": [
       "<BarContainer object of 50 artists>"
      ]
     },
     "execution_count": 109,
     "metadata": {},
     "output_type": "execute_result"
    },
    {
     "data": {
      "image/png": "[encoded data removed]",
      "text/plain": [
       "<Figure size 720x216 with 1 Axes>"
      ]
     },
     "metadata": {
      "needs_background": "light"
     },
     "output_type": "display_data"
    }
   ],
   "source": [
    "fig, ax = plt.subplots(figsize=(10,3))\n",
    "ax.bar(np.arange(len(data)), data)"
   ]
  },
  {
   "cell_type": "code",
   "execution_count": 131,
   "metadata": {
    "ExecuteTime": {
     "end_time": "2020-08-02T13:20:26.389487Z",
     "start_time": "2020-08-02T13:20:26.057121Z"
    }
   },
   "outputs": [],
   "source": [
    "with pm.Model() as model:\n",
    "#     alpha = 1 / data.mean()\n",
    "    lambda_1 = pm.Exponential(\"lambda_1\", .5)\n",
    "    lambda_2 = pm.Exponential(\"lambda_2\", .25)\n",
    "    tau = pm.DiscreteUniform(\"tau\", lower=0, upper=len(data))\n",
    "#     tau = pm.Normal(\"tau\", 20, 1)\n",
    "\n",
    "    idx = np.arange(len(data))\n",
    "    lambda_ = pm.math.switch(tau > idx, lambda_1, lambda_2)\n",
    "    \n",
    "    observation = pm.Poisson(\"obs\", lambda_, observed=data)\n"
   ]
  },
  {
   "cell_type": "code",
   "execution_count": 132,
   "metadata": {
    "ExecuteTime": {
     "end_time": "2020-08-02T13:20:35.866664Z",
     "start_time": "2020-08-02T13:20:27.078672Z"
    }
   },
   "outputs": [
    {
     "name": "stderr",
     "output_type": "stream",
     "text": [
      "INFO (theano.gof.compilelock): Refreshing lock /Users/fred.shone/.theano/compiledir_Darwin-19.6.0-x86_64-i386-64bit-i386-3.7.3-64/lock_dir/lock\n",
      "Multiprocess sampling (2 chains in 2 jobs)\n",
      "CompoundStep\n",
      ">Metropolis: [tau]\n",
      ">Metropolis: [lambda_2]\n",
      ">Metropolis: [lambda_1]\n"
     ]
    },
    {
     "data": {
      "text/html": [
       "\n",
       "    <div>\n",
       "        <style>\n",
       "            /* Turns off some styling */\n",
       "            progress {\n",
       "                /* gets rid of default border in Firefox and Opera. */\n",
       "                border: none;\n",
       "                /* Needs to be in here for Safari polyfill so background images work as expected. */\n",
       "                background-size: auto;\n",
       "            }\n",
       "            .progress-bar-interrupted, .progress-bar-interrupted::-webkit-progress-bar {\n",
       "                background: #F44336;\n",
       "            }\n",
       "        </style>\n",
       "      <progress value='30000' class='' max='30000' style='width:300px; height:20px; vertical-align: middle;'></progress>\n",
       "      100.00% [30000/30000 00:07<00:00 Sampling 2 chains, 0 divergences]\n",
       "    </div>\n",
       "    "
      ],
      "text/plain": [
       "<IPython.core.display.HTML object>"
      ]
     },
     "metadata": {},
     "output_type": "display_data"
    },
    {
     "name": "stderr",
     "output_type": "stream",
     "text": [
      "Sampling 2 chains for 5_000 tune and 10_000 draw iterations (10_000 + 20_000 draws total) took 7 seconds.\n",
      "The number of effective samples is smaller than 10% for some parameters.\n"
     ]
    }
   ],
   "source": [
    "with model:\n",
    "    step = pm.Metropolis()\n",
    "    trace = pm.sample(10000, tune=5000,step=step)"
   ]
  },
  {
   "cell_type": "code",
   "execution_count": 133,
   "metadata": {
    "ExecuteTime": {
     "end_time": "2020-08-02T13:20:35.913499Z",
     "start_time": "2020-08-02T13:20:35.871122Z"
    }
   },
   "outputs": [],
   "source": [
    "lambda_1_samples = trace['lambda_1']\n",
    "lambda_2_samples = trace['lambda_2']\n",
    "tau_samples = trace['tau']"
   ]
  },
  {
   "cell_type": "code",
   "execution_count": 136,
   "metadata": {
    "ExecuteTime": {
     "end_time": "2020-08-02T13:21:55.068172Z",
     "start_time": "2020-08-02T13:21:54.402326Z"
    }
   },
   "outputs": [
    {
     "data": {
      "text/plain": [
       "Text(0, 0.5, 'probability')"
      ]
     },
     "execution_count": 136,
     "metadata": {},
     "output_type": "execute_result"
    },
    {
     "data": {
      "image/png": "[encoded data removed]",
      "text/plain": [
       "<Figure size 864x864 with 3 Axes>"
      ]
     },
     "metadata": {
      "needs_background": "light"
     },
     "output_type": "display_data"
    }
   ],
   "source": [
    "fig, ax = plt.subplots(3, 1, figsize=(12,12))\n",
    "\n",
    "ax[0].hist(\n",
    "    lambda_1_samples,\n",
    "    histtype='stepfilled',\n",
    "    bins=30,\n",
    "    label=\"posterior of $\\lambda_1$\",\n",
    "    color=\"#A60628\",\n",
    "    density=True\n",
    ")\n",
    "ax[0].legend(loc=\"upper left\")\n",
    "ax[0].set_xlim([0, 10])\n",
    "ax[0].set_xlabel(\"$\\lambda_1$ value\")\n",
    "\n",
    "ax[1].hist(\n",
    "    lambda_2_samples,\n",
    "    histtype='stepfilled',\n",
    "    bins=30,\n",
    "    label=\"posterior of $\\lambda_2$\",\n",
    "    color=\"#7A68A6\",\n",
    "    density=True\n",
    ")\n",
    "ax[1].legend(loc=\"upper left\")\n",
    "ax[1].set_xlim([0, 10])\n",
    "ax[1].set_xlabel(\"$\\lambda_1$ value\")\n",
    "\n",
    "w = 1.0 / tau_samples.shape[0] * np.ones_like(tau_samples)\n",
    "ax[2].hist(\n",
    "    tau_samples,\n",
    "    bins=len(data),\n",
    "    alpha=1,\n",
    "    label=r\"posterior of $\\tau$\",\n",
    "    color=\"#467821\",\n",
    "    weights=w,\n",
    "    rwidth=2.\n",
    ")\n",
    "ax[2].set_xticks(np.arange(len(data)))\n",
    "ax[2].legend(loc=\"upper left\")\n",
    "ax[2].set_ylim([0, .5])\n",
    "ax[2].set_xlim([0, len(data)])\n",
    "ax[2].set_xlabel(r\"$\\tau$ (in days)\")\n",
    "ax[2].set_ylabel(\"probability\")"
   ]
  },
  {
   "cell_type": "code",
   "execution_count": 137,
   "metadata": {
    "ExecuteTime": {
     "end_time": "2020-08-02T13:21:59.357620Z",
     "start_time": "2020-08-02T13:21:59.060809Z"
    }
   },
   "outputs": [
    {
     "data": {
      "text/plain": [
       "<matplotlib.legend.Legend at 0x12b6ce0f0>"
      ]
     },
     "execution_count": 137,
     "metadata": {},
     "output_type": "execute_result"
    },
    {
     "data": {
      "image/png": "[encoded data removed]",
      "text/plain": [
       "<Figure size 864x432 with 1 Axes>"
      ]
     },
     "metadata": {
      "needs_background": "light"
     },
     "output_type": "display_data"
    }
   ],
   "source": [
    "fig, ax = plt.subplots(figsize=(12,6))\n",
    "N = tau_samples.shape[0]\n",
    "expected_texts_per_day = np.zeros(len(data))\n",
    "\n",
    "for day in range(0, len(data)):\n",
    "    ix = day < tau_samples\n",
    "    expected_texts_per_day[day] = (lambda_1_samples[ix].sum() + lambda_2_samples[~ix].sum()) / N\n",
    "\n",
    "ax.plot(\n",
    "    range(len(data)),\n",
    "    expected_texts_per_day,\n",
    "    lw=4,\n",
    "    color=\"#E24A33\",\n",
    "    label=\"expected number of text-messages received\"\n",
    ")\n",
    "ax.set_xlim(0, len(data))\n",
    "ax.set_xlabel(\"Day\")\n",
    "ax.set_ylabel(\"Expected # text-messages\")\n",
    "ax.set_title(\"Expected number of text-messages received\")\n",
    "ax.set_ylim(0, 20)\n",
    "\n",
    "ax.bar(\n",
    "    np.arange(len(data)),\n",
    "    data,\n",
    "    color=\"#348ABD\",\n",
    "    alpha=0.65,\n",
    "    label=\"observed texts per day\"\n",
    ")\n",
    "\n",
    "ax.legend(loc=\"upper left\")"
   ]
  },
  {
   "cell_type": "code",
   "execution_count": null,
   "metadata": {},
   "outputs": [],
   "source": []
  }
 ],
 "metadata": {
  "kernelspec": {
   "display_name": "Python 3",
   "language": "python",
   "name": "python3"
  },
  "language_info": {
   "codemirror_mode": {
    "name": "ipython",
    "version": 3
   },
   "file_extension": ".py",
   "mimetype": "text/x-python",
   "name": "python",
   "nbconvert_exporter": "python",
   "pygments_lexer": "ipython3",
   "version": "3.7.3"
  },
  "toc": {
   "base_numbering": 1,
   "nav_menu": {},
   "number_sections": true,
   "sideBar": true,
   "skip_h1_title": false,
   "title_cell": "Table of Contents",
   "title_sidebar": "Contents",
   "toc_cell": false,
   "toc_position": {},
   "toc_section_display": true,
   "toc_window_display": false
  }
 },
 "nbformat": 4,
 "nbformat_minor": 4
}
